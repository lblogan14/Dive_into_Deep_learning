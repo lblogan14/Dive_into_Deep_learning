{
 "cells": [
  {
   "cell_type": "markdown",
   "metadata": {},
   "source": [
    "# Chapter 8 - Recurrent Neural Networks"
   ]
  },
  {
   "cell_type": "markdown",
   "metadata": {},
   "source": [
    "**Recurrent neural networks** (RNNs) are deep learning models that capture the dynamics of sequences via *recurrent connections*, which can be thought of as cycles in the network of nodes. \n",
    "\n",
    "Recurrent neural networks are *unrolled* across time steps (or sequence steps), with the *same underlying parameters* applied at each step.\n",
    "\n",
    "While the standard connections are applied *synchronously* to propagate each layer’s activations to the subsequent layer *at the same time step*, the recurrent connections are *dynamic*, passing information across adjacent time steps.\n",
    "\n",
    "![](../imgs/ch09/unfolded-rnn.svg)\n",
    "\n",
    "RNNs can be thought of as feedforward neural networks where each layer's parameters (both conventional and recurrent) are shared across time steps."
   ]
  },
  {
   "cell_type": "markdown",
   "metadata": {},
   "source": [
    "## 9.1. Working with Sequences"
   ]
  },
  {
   "cell_type": "code",
   "execution_count": null,
   "metadata": {},
   "outputs": [],
   "source": []
  }
 ],
 "metadata": {
  "language_info": {
   "name": "python"
  }
 },
 "nbformat": 4,
 "nbformat_minor": 2
}
