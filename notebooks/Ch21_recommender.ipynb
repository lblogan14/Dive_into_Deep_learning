{
 "cells": [
  {
   "cell_type": "markdown",
   "metadata": {},
   "source": [
    "# Chapter 21 - Recommender Systems"
   ]
  },
  {
   "cell_type": "markdown",
   "metadata": {},
   "source": [
    "## 21.1. Overview of Recommender Systems"
   ]
  },
  {
   "cell_type": "markdown",
   "metadata": {},
   "source": [
    "Recommender systems are powerful information filtering tools that can facilitate personalized services and provide tailored experience to individual users."
   ]
  },
  {
   "cell_type": "markdown",
   "metadata": {},
   "source": [
    "### 21.1.1. Collaborative Filtering"
   ]
  },
  {
   "cell_type": "markdown",
   "metadata": {},
   "source": [
    "The *collaborative filtering* (CF) refers to \"people collaborate to help one another perform the filtering process in order to handle the large amounts of email and messages posted to newsgroups.\"\n",
    "\n",
    "*Memory-based CF* techniques are nearest neighbor-based CF such as user-based CF and item-based CF.\n",
    "\n",
    "*Model-based CF* includes a model such as latent factor models.\n",
    "\n",
    "In general, CF only uses the user-item interaction data to make predictions and recommendations. Besides CF, content-based and context-based recommender systems are also useful in incorporating the content descriptions of items/users and contextual signals such as timestamps and locations."
   ]
  },
  {
   "cell_type": "markdown",
   "metadata": {},
   "source": [
    "### 21.1.2. Explicit Feedback and Implicit Feedback"
   ]
  },
  {
   "cell_type": "markdown",
   "metadata": {},
   "source": [
    "To learn the preference of users, the system shall collect feedback from them.\n",
    "\n",
    "*Explicit feedback* requries users to indicatre their interests proactively. For example, review ratings and thumbs-up/-down in YouTube. However, explicit feedback is not always readily available as many users may be reluctant to rate products.\n",
    "\n",
    "*Implicit feedback* is concerned with modeling impliict behaviors such as user clicks. Another implicit feedback includes purchase history, browsing history, watches, and even mouse movements. Implicit feedback is inherently noisy. We can only guess their preferences and true motives. A user watched a movie does not necessarily indicate a positive view of that movie."
   ]
  },
  {
   "cell_type": "markdown",
   "metadata": {},
   "source": [
    "## 21.2. The MovieLens Dataset"
   ]
  },
  {
   "cell_type": "markdown",
   "metadata": {},
   "source": [
    "MovieLens is a non-commercial web-based movie recommender system."
   ]
  },
  {
   "cell_type": "markdown",
   "metadata": {},
   "source": [
    "### 21.2.1. Getting the Data"
   ]
  },
  {
   "cell_type": "code",
   "execution_count": null,
   "metadata": {},
   "outputs": [],
   "source": [
    "import os\n",
    "import pandas as pd\n"
   ]
  }
 ],
 "metadata": {
  "language_info": {
   "name": "python"
  }
 },
 "nbformat": 4,
 "nbformat_minor": 2
}
